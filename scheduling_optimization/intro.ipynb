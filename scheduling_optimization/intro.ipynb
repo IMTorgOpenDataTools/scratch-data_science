{
 "cells": [
  {
   "cell_type": "markdown",
   "metadata": {},
   "source": [
    "\n",
    "## Introduction\n",
    "\n",
    "Abstracting a problem using different optimization frameworks.\n",
    "\n",
    "These are listed from most- to least-important.\n",
    "\n",
    "* we have to assign people to jobs\n",
    "* we want the most-experienced person for the most-important job\n",
    "* we want to include other information, such as leave time and other work activities\n",
    "* account for additional options:\n",
    "  - opportunities to learn\n",
    "  - team cohesion\n",
    "  - previous experiences and connections\n",
    "  - total hours assigned and time traveling\n",
    "\n",
    "This could be performed by choosing the best person for each individual job, in an iterative manner.  Oftentimes, this fails to provide a good overall plan because other constraints are not taken into account.  The same very-experienced person is chosen too often.  Other people are never assigned, so they never have the opportunities.  We need a way to optimize the plan so there is a good balance to the system.\n",
    "\n",
    "We can do this by mathematically expressing these ideas.  The scenario needs the following:\n",
    "* objective function that maximizes an outcome\n",
    "* constraints that the outcome must adhere\n",
    "\n",
    "This notebook will provide: i) frameworks for perceiving the planning scenario, ii) gradual increases to the compexity of each scenario.  There are a few different ways to frame the problem.  Each approach will necessarily simplify certain aspects of the scenario.  Some of these simplifications will be reasonable, while others will not.\n",
    "\n",
    "__Assignment__\n",
    "Assign a person to each job by minimizing the overall cost.  There may be more people than available jobs.  There is an associated cost for assigning each person to a job.  To properly express the scenario, in the most simple manner, first, but still accounting for additional information.\n",
    "\n",
    "Divide a long time span into smaller segments, such as a number of weeks.  Apply optimization to people available in that time span, leaving out those who have conflicts, such as leave.  The cost of each person for each job is determined by their level of experience and other 'soft' measures.  \n",
    "\n",
    "While iterating over each time span, from earliest to farthest in the future, the cost for each person to a particular asignment should adapt to the information of the previous spans.\n",
    "\n",
    "\n",
    "__Scheduling__\n",
    "\n",
    "Schedule a person for each 'shift' in an assignment.  Each time period is divided into multiple shifts.  Each shift is assigned a single person and none work more than one shift.  Each person is assigned at least N shifts during an M-day span.\n",
    "\n",
    "\n",
    "\n",
    "__Packing__\n",
    "\n",
    "Pack as many items into a container while minimizing the weight.  Here, we can maximize the collective experience and skill of the group.  We are constrained by the number of types of people for each assignment.  \n",
    "\n",
    "The weakness is that it treats each assignment (container) as the same.  For our problem, each assignment is unique with different priorities.\n",
    "\n",
    "\n",
    "## Techncial Aspects\n",
    "\n",
    "\n",
    "We will use Google's `ortools` package with python for all work.\n",
    "\n"
   ]
  }
 ],
 "metadata": {
  "language_info": {
   "name": "python"
  }
 },
 "nbformat": 4,
 "nbformat_minor": 2
}
