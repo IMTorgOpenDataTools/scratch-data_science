{
 "cells": [
  {
   "cell_type": "markdown",
   "metadata": {},
   "source": [
    "## Basic Assignment\n",
    "\n",
    "This is applying the most basic scenario."
   ]
  },
  {
   "cell_type": "markdown",
   "metadata": {},
   "source": [
    "## Setup\n",
    "\n",
    "We have to get the data into the proper format which will determine the results."
   ]
  },
  {
   "cell_type": "code",
   "execution_count": 102,
   "metadata": {},
   "outputs": [],
   "source": [
    "import openpyxl\n",
    "import pandas as pd\n",
    "import numpy as np\n",
    "\n",
    "from pathlib import Path"
   ]
  },
  {
   "cell_type": "code",
   "execution_count": 78,
   "metadata": {},
   "outputs": [
    {
     "data": {
      "text/plain": [
       "['Heatmap', 'Resource', 'Activity']"
      ]
     },
     "execution_count": 78,
     "metadata": {},
     "output_type": "execute_result"
    }
   ],
   "source": [
    "filename = './bank_schedule.xlsx'\n",
    "filepath = Path(filename)\n",
    "\n",
    "file = pd.read_excel(filepath, None)\n",
    "sheets = list(file.keys())\n",
    "sheets"
   ]
  },
  {
   "cell_type": "code",
   "execution_count": 79,
   "metadata": {},
   "outputs": [
    {
     "name": "stdout",
     "output_type": "stream",
     "text": [
      "shape: (10, 2)\n",
      "fields: Index(['Bank', 'Priority'], dtype='object')\n"
     ]
    }
   ],
   "source": [
    "dfHeatmap = pd.read_excel(\n",
    "    open(filepath, 'rb'), \n",
    "    sheet_name=sheets[0]\n",
    "    )\n",
    "print(f'shape: {dfHeatmap.shape}')\n",
    "print(f'fields: {dfHeatmap.columns}')"
   ]
  },
  {
   "cell_type": "code",
   "execution_count": 80,
   "metadata": {},
   "outputs": [
    {
     "name": "stdout",
     "output_type": "stream",
     "text": [
      "shape: (15, 3)\n",
      "fields: Index(['Resource', 'Experience', 'Weeks Not Available'], dtype='object')\n"
     ]
    }
   ],
   "source": [
    "dfResource = pd.read_excel(\n",
    "    open(filepath, 'rb'), \n",
    "    sheet_name=sheets[1]\n",
    "    )\n",
    "print(f'shape: {dfResource.shape}')\n",
    "print(f'fields: {dfResource.columns}')"
   ]
  },
  {
   "cell_type": "code",
   "execution_count": 81,
   "metadata": {},
   "outputs": [
    {
     "name": "stdout",
     "output_type": "stream",
     "text": [
      "shape: (10, 3)\n",
      "fields: Index(['Activity', 'Bank', 'Weeks Needed'], dtype='object')\n"
     ]
    }
   ],
   "source": [
    "dfActivity = pd.read_excel(\n",
    "    open(filepath, 'rb'), \n",
    "    sheet_name=sheets[2]\n",
    "    )\n",
    "print(f'shape: {dfActivity.shape}')\n",
    "print(f'fields: {dfActivity.columns}')"
   ]
  },
  {
   "cell_type": "markdown",
   "metadata": {},
   "source": [
    "## Prepare Data\n",
    "\n",
    "* separate activitiy schedule into time spans\n",
    "* for each time span\n",
    "  - remove people not available for time span\n",
    "  - determine cost for each person-job: experience\n",
    "  - ..."
   ]
  },
  {
   "cell_type": "code",
   "execution_count": 82,
   "metadata": {},
   "outputs": [
    {
     "data": {
      "text/plain": [
       "'13, 17, 18'"
      ]
     },
     "execution_count": 82,
     "metadata": {},
     "output_type": "execute_result"
    }
   ],
   "source": [
    "dfActivity['Weeks Needed'][0]"
   ]
  },
  {
   "cell_type": "code",
   "execution_count": 83,
   "metadata": {},
   "outputs": [],
   "source": [
    "dfActivity['WeeksNeeded'] = dfActivity['Weeks Needed'].apply(lambda x: [int(item) for item in x.split(',')])"
   ]
  },
  {
   "cell_type": "code",
   "execution_count": 84,
   "metadata": {},
   "outputs": [
    {
     "data": {
      "text/html": [
       "<div>\n",
       "<style scoped>\n",
       "    .dataframe tbody tr th:only-of-type {\n",
       "        vertical-align: middle;\n",
       "    }\n",
       "\n",
       "    .dataframe tbody tr th {\n",
       "        vertical-align: top;\n",
       "    }\n",
       "\n",
       "    .dataframe thead th {\n",
       "        text-align: right;\n",
       "    }\n",
       "</style>\n",
       "<table border=\"1\" class=\"dataframe\">\n",
       "  <thead>\n",
       "    <tr style=\"text-align: right;\">\n",
       "      <th></th>\n",
       "      <th>Weeks Needed</th>\n",
       "      <th>WeeksNeeded</th>\n",
       "    </tr>\n",
       "  </thead>\n",
       "  <tbody>\n",
       "    <tr>\n",
       "      <th>0</th>\n",
       "      <td>13, 17, 18</td>\n",
       "      <td>[13, 17, 18]</td>\n",
       "    </tr>\n",
       "    <tr>\n",
       "      <th>1</th>\n",
       "      <td>06, 14, 15, 16, 17</td>\n",
       "      <td>[6, 14, 15, 16, 17]</td>\n",
       "    </tr>\n",
       "    <tr>\n",
       "      <th>2</th>\n",
       "      <td>19, 20, 21</td>\n",
       "      <td>[19, 20, 21]</td>\n",
       "    </tr>\n",
       "  </tbody>\n",
       "</table>\n",
       "</div>"
      ],
      "text/plain": [
       "         Weeks Needed          WeeksNeeded\n",
       "0          13, 17, 18         [13, 17, 18]\n",
       "1  06, 14, 15, 16, 17  [6, 14, 15, 16, 17]\n",
       "2          19, 20, 21         [19, 20, 21]"
      ]
     },
     "execution_count": 84,
     "metadata": {},
     "output_type": "execute_result"
    }
   ],
   "source": [
    "dfActivity[['Weeks Needed', 'WeeksNeeded']].head(3)"
   ]
  },
  {
   "cell_type": "code",
   "execution_count": 85,
   "metadata": {},
   "outputs": [],
   "source": [
    "df = dfActivity.merge(dfHeatmap, on='Bank', how='outer')"
   ]
  },
  {
   "cell_type": "code",
   "execution_count": 94,
   "metadata": {},
   "outputs": [
    {
     "data": {
      "text/html": [
       "<div>\n",
       "<style scoped>\n",
       "    .dataframe tbody tr th:only-of-type {\n",
       "        vertical-align: middle;\n",
       "    }\n",
       "\n",
       "    .dataframe tbody tr th {\n",
       "        vertical-align: top;\n",
       "    }\n",
       "\n",
       "    .dataframe thead th {\n",
       "        text-align: right;\n",
       "    }\n",
       "</style>\n",
       "<table border=\"1\" class=\"dataframe\">\n",
       "  <thead>\n",
       "    <tr style=\"text-align: right;\">\n",
       "      <th></th>\n",
       "      <th>Activity</th>\n",
       "      <th>Bank</th>\n",
       "      <th>Weeks Needed</th>\n",
       "      <th>WeeksNeeded</th>\n",
       "      <th>Priority</th>\n",
       "    </tr>\n",
       "  </thead>\n",
       "  <tbody>\n",
       "    <tr>\n",
       "      <th>0</th>\n",
       "      <td>Activity-1</td>\n",
       "      <td>Bank-1</td>\n",
       "      <td>13, 17, 18</td>\n",
       "      <td>[13, 17, 18]</td>\n",
       "      <td>1</td>\n",
       "    </tr>\n",
       "    <tr>\n",
       "      <th>1</th>\n",
       "      <td>Activity-10</td>\n",
       "      <td>Bank-10</td>\n",
       "      <td>14, 15, 16</td>\n",
       "      <td>[14, 15, 16]</td>\n",
       "      <td>10</td>\n",
       "    </tr>\n",
       "    <tr>\n",
       "      <th>2</th>\n",
       "      <td>Activity-2</td>\n",
       "      <td>Bank-2</td>\n",
       "      <td>06, 14, 15, 16, 17</td>\n",
       "      <td>[6, 14, 15, 16, 17]</td>\n",
       "      <td>2</td>\n",
       "    </tr>\n",
       "  </tbody>\n",
       "</table>\n",
       "</div>"
      ],
      "text/plain": [
       "      Activity     Bank        Weeks Needed          WeeksNeeded  Priority\n",
       "0   Activity-1   Bank-1          13, 17, 18         [13, 17, 18]         1\n",
       "1  Activity-10  Bank-10          14, 15, 16         [14, 15, 16]        10\n",
       "2   Activity-2   Bank-2  06, 14, 15, 16, 17  [6, 14, 15, 16, 17]         2"
      ]
     },
     "execution_count": 94,
     "metadata": {},
     "output_type": "execute_result"
    }
   ],
   "source": [
    "df.head(3)"
   ]
  },
  {
   "cell_type": "code",
   "execution_count": 86,
   "metadata": {},
   "outputs": [
    {
     "name": "stdout",
     "output_type": "stream",
     "text": [
      "weeks: [6, 13, 14, 15, 16, 17, 18, 19, 20, 21, 22, 23, 24, 25]\n",
      "length: 14\n",
      "weeks: ['06', '13', '14', '15', '16', '17', '18', '19', '20', '21', '22', '23', '24', '25']\n",
      "length: 14\n"
     ]
    }
   ],
   "source": [
    "sWeeks = set()\n",
    "for x in df['WeeksNeeded'].to_list():\n",
    "    for item in x:\n",
    "        #new_item = '0'+str(item) if len(str(item)) < 2 else str(item)\n",
    "        sWeeks.add(item)\n",
    "\n",
    "lWeeks = []\n",
    "for item in sWeeks:\n",
    "    new_item = '0'+str(item) if len(str(item)) < 2 else str(item)\n",
    "    lWeeks.append(new_item)\n",
    "\n",
    "\n",
    "#review\n",
    "weeks = list(sWeeks)\n",
    "print(f'weeks: {weeks}')\n",
    "print(f'length: {len(weeks)}')\n",
    "\n",
    "weeks = list(lWeeks)\n",
    "print(f'weeks: {weeks}')\n",
    "print(f'length: {len(weeks)}')"
   ]
  },
  {
   "cell_type": "markdown",
   "metadata": {},
   "source": [
    "## Preprocess\n",
    "\n",
    "* remove people not available for time span\n",
    "* determine cost for each person-job: experience\n",
    "\n",
    "\n",
    "We have the following variables:\n",
    "\n",
    "* experience is a linear measure\n",
    "* \n",
    "\n",
    "We want a cost function that meets the following criteria:\n",
    "\n",
    "* hightest-priority (1) - highest-experience (1) = no cost (0)\n",
    "* hightest-priority (10) - lowest-experience (1) = cost (10)\n",
    "* lowest-priority (10) - highest-experience (1) = cost (10)\n",
    "* lowest-priority (10) - lowest-experience (10) = no cost (0)\n",
    "\n",
    "This equates to the absolute value of the difference between the two"
   ]
  },
  {
   "cell_type": "code",
   "execution_count": 93,
   "metadata": {},
   "outputs": [
    {
     "data": {
      "text/html": [
       "<div>\n",
       "<style scoped>\n",
       "    .dataframe tbody tr th:only-of-type {\n",
       "        vertical-align: middle;\n",
       "    }\n",
       "\n",
       "    .dataframe tbody tr th {\n",
       "        vertical-align: top;\n",
       "    }\n",
       "\n",
       "    .dataframe thead th {\n",
       "        text-align: right;\n",
       "    }\n",
       "</style>\n",
       "<table border=\"1\" class=\"dataframe\">\n",
       "  <thead>\n",
       "    <tr style=\"text-align: right;\">\n",
       "      <th></th>\n",
       "      <th>Resource</th>\n",
       "      <th>Experience</th>\n",
       "      <th>Weeks Not Available</th>\n",
       "    </tr>\n",
       "  </thead>\n",
       "  <tbody>\n",
       "    <tr>\n",
       "      <th>0</th>\n",
       "      <td>Austin Powers</td>\n",
       "      <td>1</td>\n",
       "      <td>06, 09</td>\n",
       "    </tr>\n",
       "    <tr>\n",
       "      <th>1</th>\n",
       "      <td>Dr. Evil</td>\n",
       "      <td>2</td>\n",
       "      <td>23, 33</td>\n",
       "    </tr>\n",
       "    <tr>\n",
       "      <th>2</th>\n",
       "      <td>Basil Exposition</td>\n",
       "      <td>3</td>\n",
       "      <td>19,</td>\n",
       "    </tr>\n",
       "  </tbody>\n",
       "</table>\n",
       "</div>"
      ],
      "text/plain": [
       "           Resource  Experience Weeks Not Available\n",
       "0     Austin Powers           1              06, 09\n",
       "1          Dr. Evil           2              23, 33\n",
       "2  Basil Exposition           3                19, "
      ]
     },
     "execution_count": 93,
     "metadata": {},
     "output_type": "execute_result"
    }
   ],
   "source": [
    "dfResource.head(3)"
   ]
  },
  {
   "cell_type": "code",
   "execution_count": 92,
   "metadata": {},
   "outputs": [
    {
     "name": "stdout",
     "output_type": "stream",
     "text": [
      "week 06 has 14 people to assign to 1 jobs\n",
      "week 13 has 15 people to assign to 1 jobs\n",
      "week 14 has 13 people to assign to 2 jobs\n",
      "week 15 has 13 people to assign to 3 jobs\n",
      "week 16 has 15 people to assign to 4 jobs\n",
      "week 17 has 14 people to assign to 4 jobs\n",
      "week 18 has 14 people to assign to 4 jobs\n",
      "week 19 has 11 people to assign to 3 jobs\n",
      "week 20 has 15 people to assign to 3 jobs\n",
      "week 21 has 15 people to assign to 2 jobs\n",
      "week 22 has 15 people to assign to 1 jobs\n",
      "week 23 has 13 people to assign to 2 jobs\n",
      "week 24 has 15 people to assign to 2 jobs\n",
      "week 25 has 15 people to assign to 2 jobs\n"
     ]
    }
   ],
   "source": [
    "#using int week: df[pd.Series(weeks[0]).isin(df['WeeksNeeded'])]\n",
    "\n",
    "#using str week\n",
    "for week in weeks:\n",
    "    tmp_job = df[df['Weeks Needed'].str.contains(week)]\n",
    "    tmp_people = dfResource[~dfResource['Weeks Not Available'].str.contains(week)]\n",
    "    print(f'week {week} has {tmp_people.shape[0]} people to assign to {tmp_job.shape[0]} jobs')"
   ]
  },
  {
   "cell_type": "code",
   "execution_count": 59,
   "metadata": {},
   "outputs": [
    {
     "data": {
      "text/plain": [
       "'6, 14, 15, 16, 17'"
      ]
     },
     "execution_count": 59,
     "metadata": {},
     "output_type": "execute_result"
    }
   ],
   "source": [
    "df['Weeks Needed'].iloc[2]"
   ]
  },
  {
   "cell_type": "code",
   "execution_count": null,
   "metadata": {},
   "outputs": [],
   "source": [
    "#TODO: get person name, assignment for each"
   ]
  },
  {
   "cell_type": "code",
   "execution_count": 141,
   "metadata": {},
   "outputs": [
    {
     "data": {
      "text/html": [
       "<div>\n",
       "<style scoped>\n",
       "    .dataframe tbody tr th:only-of-type {\n",
       "        vertical-align: middle;\n",
       "    }\n",
       "\n",
       "    .dataframe tbody tr th {\n",
       "        vertical-align: top;\n",
       "    }\n",
       "\n",
       "    .dataframe thead th {\n",
       "        text-align: right;\n",
       "    }\n",
       "</style>\n",
       "<table border=\"1\" class=\"dataframe\">\n",
       "  <thead>\n",
       "    <tr style=\"text-align: right;\">\n",
       "      <th></th>\n",
       "      <th>Activity</th>\n",
       "      <th>Bank</th>\n",
       "      <th>Weeks Needed</th>\n",
       "      <th>WeeksNeeded</th>\n",
       "      <th>Priority</th>\n",
       "    </tr>\n",
       "  </thead>\n",
       "  <tbody>\n",
       "    <tr>\n",
       "      <th>1</th>\n",
       "      <td>Activity-10</td>\n",
       "      <td>Bank-10</td>\n",
       "      <td>14, 15, 16</td>\n",
       "      <td>[14, 15, 16]</td>\n",
       "      <td>10</td>\n",
       "    </tr>\n",
       "    <tr>\n",
       "      <th>2</th>\n",
       "      <td>Activity-2</td>\n",
       "      <td>Bank-2</td>\n",
       "      <td>06, 14, 15, 16, 17</td>\n",
       "      <td>[6, 14, 15, 16, 17]</td>\n",
       "      <td>2</td>\n",
       "    </tr>\n",
       "    <tr>\n",
       "      <th>8</th>\n",
       "      <td>Activity-8</td>\n",
       "      <td>Bank-8</td>\n",
       "      <td>15, 16, 17, 18, 19</td>\n",
       "      <td>[15, 16, 17, 18, 19]</td>\n",
       "      <td>8</td>\n",
       "    </tr>\n",
       "    <tr>\n",
       "      <th>9</th>\n",
       "      <td>Activity-9</td>\n",
       "      <td>Bank-9</td>\n",
       "      <td>16, 17, 18</td>\n",
       "      <td>[16, 17, 18]</td>\n",
       "      <td>9</td>\n",
       "    </tr>\n",
       "  </tbody>\n",
       "</table>\n",
       "</div>"
      ],
      "text/plain": [
       "      Activity     Bank        Weeks Needed           WeeksNeeded  Priority\n",
       "1  Activity-10  Bank-10          14, 15, 16          [14, 15, 16]        10\n",
       "2   Activity-2   Bank-2  06, 14, 15, 16, 17   [6, 14, 15, 16, 17]         2\n",
       "8   Activity-8   Bank-8  15, 16, 17, 18, 19  [15, 16, 17, 18, 19]         8\n",
       "9   Activity-9   Bank-9          16, 17, 18          [16, 17, 18]         9"
      ]
     },
     "execution_count": 141,
     "metadata": {},
     "output_type": "execute_result"
    }
   ],
   "source": [
    "tmp_job"
   ]
  },
  {
   "cell_type": "code",
   "execution_count": 142,
   "metadata": {},
   "outputs": [
    {
     "data": {
      "text/html": [
       "<div>\n",
       "<style scoped>\n",
       "    .dataframe tbody tr th:only-of-type {\n",
       "        vertical-align: middle;\n",
       "    }\n",
       "\n",
       "    .dataframe tbody tr th {\n",
       "        vertical-align: top;\n",
       "    }\n",
       "\n",
       "    .dataframe thead th {\n",
       "        text-align: right;\n",
       "    }\n",
       "</style>\n",
       "<table border=\"1\" class=\"dataframe\">\n",
       "  <thead>\n",
       "    <tr style=\"text-align: right;\">\n",
       "      <th></th>\n",
       "      <th>Resource</th>\n",
       "      <th>Experience</th>\n",
       "      <th>Weeks Not Available</th>\n",
       "    </tr>\n",
       "  </thead>\n",
       "  <tbody>\n",
       "    <tr>\n",
       "      <th>0</th>\n",
       "      <td>Austin Powers</td>\n",
       "      <td>1</td>\n",
       "      <td>06, 09</td>\n",
       "    </tr>\n",
       "    <tr>\n",
       "      <th>1</th>\n",
       "      <td>Dr. Evil</td>\n",
       "      <td>2</td>\n",
       "      <td>23, 33</td>\n",
       "    </tr>\n",
       "    <tr>\n",
       "      <th>2</th>\n",
       "      <td>Basil Exposition</td>\n",
       "      <td>3</td>\n",
       "      <td>19,</td>\n",
       "    </tr>\n",
       "    <tr>\n",
       "      <th>3</th>\n",
       "      <td>Mrs. Kensington</td>\n",
       "      <td>4</td>\n",
       "      <td>14</td>\n",
       "    </tr>\n",
       "    <tr>\n",
       "      <th>4</th>\n",
       "      <td>Number Two</td>\n",
       "      <td>5</td>\n",
       "      <td>08, 15</td>\n",
       "    </tr>\n",
       "    <tr>\n",
       "      <th>5</th>\n",
       "      <td>Scott Evil</td>\n",
       "      <td>6</td>\n",
       "      <td>17, 19</td>\n",
       "    </tr>\n",
       "    <tr>\n",
       "      <th>6</th>\n",
       "      <td>Frau Farbissina</td>\n",
       "      <td>7</td>\n",
       "      <td>08, 09</td>\n",
       "    </tr>\n",
       "    <tr>\n",
       "      <th>7</th>\n",
       "      <td>Patty O'Brien</td>\n",
       "      <td>8</td>\n",
       "      <td>15,</td>\n",
       "    </tr>\n",
       "    <tr>\n",
       "      <th>8</th>\n",
       "      <td>Cmdr. Gilmour</td>\n",
       "      <td>9</td>\n",
       "      <td>18</td>\n",
       "    </tr>\n",
       "    <tr>\n",
       "      <th>9</th>\n",
       "      <td>Mustafa</td>\n",
       "      <td>10</td>\n",
       "      <td>19</td>\n",
       "    </tr>\n",
       "    <tr>\n",
       "      <th>10</th>\n",
       "      <td>Andy Warhol</td>\n",
       "      <td>11</td>\n",
       "      <td>08</td>\n",
       "    </tr>\n",
       "    <tr>\n",
       "      <th>11</th>\n",
       "      <td>Johnson Ritter</td>\n",
       "      <td>12</td>\n",
       "      <td>12</td>\n",
       "    </tr>\n",
       "    <tr>\n",
       "      <th>12</th>\n",
       "      <td>Gary Coleman</td>\n",
       "      <td>13</td>\n",
       "      <td>23</td>\n",
       "    </tr>\n",
       "    <tr>\n",
       "      <th>13</th>\n",
       "      <td>Vanilla Ice</td>\n",
       "      <td>14</td>\n",
       "      <td>14</td>\n",
       "    </tr>\n",
       "    <tr>\n",
       "      <th>14</th>\n",
       "      <td>Fembots</td>\n",
       "      <td>15</td>\n",
       "      <td>19</td>\n",
       "    </tr>\n",
       "  </tbody>\n",
       "</table>\n",
       "</div>"
      ],
      "text/plain": [
       "            Resource  Experience Weeks Not Available\n",
       "0      Austin Powers           1              06, 09\n",
       "1           Dr. Evil           2              23, 33\n",
       "2   Basil Exposition           3                19, \n",
       "3    Mrs. Kensington           4                  14\n",
       "4         Number Two           5              08, 15\n",
       "5         Scott Evil           6              17, 19\n",
       "6    Frau Farbissina           7              08, 09\n",
       "7      Patty O'Brien           8                15, \n",
       "8      Cmdr. Gilmour           9                  18\n",
       "9            Mustafa          10                  19\n",
       "10       Andy Warhol          11                  08\n",
       "11    Johnson Ritter          12                  12\n",
       "12      Gary Coleman          13                  23\n",
       "13       Vanilla Ice          14                  14\n",
       "14           Fembots          15                  19"
      ]
     },
     "execution_count": 142,
     "metadata": {},
     "output_type": "execute_result"
    }
   ],
   "source": [
    "tmp_people"
   ]
  },
  {
   "cell_type": "code",
   "execution_count": 98,
   "metadata": {},
   "outputs": [],
   "source": [
    "week = '16'\n",
    "tmp_job = df[df['Weeks Needed'].str.contains(week)]\n",
    "tmp_people = dfResource[~dfResource['Weeks Not Available'].str.contains(week)]\n",
    "\n",
    "task = []\n",
    "for jobPrior in tmp_job['Priority'].to_list():\n",
    "    worker = []\n",
    "    for personExp in tmp_people['Experience'].to_list():\n",
    "        diff = abs( jobPrior - personExp )\n",
    "        worker.append(diff)\n",
    "    task.append(worker)\n"
   ]
  },
  {
   "cell_type": "code",
   "execution_count": 108,
   "metadata": {},
   "outputs": [
    {
     "data": {
      "text/plain": [
       "array([[ 9,  1,  7,  8],\n",
       "       [ 8,  0,  6,  7],\n",
       "       [ 7,  1,  5,  6],\n",
       "       [ 6,  2,  4,  5],\n",
       "       [ 5,  3,  3,  4],\n",
       "       [ 4,  4,  2,  3],\n",
       "       [ 3,  5,  1,  2],\n",
       "       [ 2,  6,  0,  1],\n",
       "       [ 1,  7,  1,  0],\n",
       "       [ 0,  8,  2,  1],\n",
       "       [ 1,  9,  3,  2],\n",
       "       [ 2, 10,  4,  3],\n",
       "       [ 3, 11,  5,  4],\n",
       "       [ 4, 12,  6,  5],\n",
       "       [ 5, 13,  7,  6]])"
      ]
     },
     "execution_count": 108,
     "metadata": {},
     "output_type": "execute_result"
    }
   ],
   "source": [
    "costs = np.array(task).transpose()\n",
    "costs"
   ]
  },
  {
   "cell_type": "code",
   "execution_count": 109,
   "metadata": {},
   "outputs": [
    {
     "name": "stdout",
     "output_type": "stream",
     "text": [
      "Number of workers: 15\n",
      "Number of tasks: 4\n"
     ]
    }
   ],
   "source": [
    "num_workers = len(costs)\n",
    "num_tasks = len(costs[0])\n",
    "\n",
    "print(f'Number of workers: {num_workers}')\n",
    "print(f'Number of tasks: {num_tasks}')"
   ]
  },
  {
   "cell_type": "markdown",
   "metadata": {},
   "source": [
    "## Apply Optimization"
   ]
  },
  {
   "cell_type": "code",
   "execution_count": 110,
   "metadata": {},
   "outputs": [],
   "source": [
    "from ortools.linear_solver import pywraplp"
   ]
  },
  {
   "cell_type": "code",
   "execution_count": 113,
   "metadata": {},
   "outputs": [],
   "source": [
    "# Create the mip solver with the SCIP backend.\n",
    "solver = pywraplp.Solver.CreateSolver(\"SCIP\")\n",
    "\n",
    "if not solver:\n",
    "    print('Error')"
   ]
  },
  {
   "cell_type": "code",
   "execution_count": 114,
   "metadata": {},
   "outputs": [],
   "source": [
    "# x[i, j] is an array of 0-1 variables, which will be 1\n",
    "# if worker i is assigned to task j.\n",
    "x = {}\n",
    "for i in range(num_workers):\n",
    "    for j in range(num_tasks):\n",
    "        x[i, j] = solver.IntVar(0, 1, \"\")"
   ]
  },
  {
   "cell_type": "code",
   "execution_count": 115,
   "metadata": {},
   "outputs": [],
   "source": [
    "# Each worker is assigned to at most 1 task.\n",
    "for i in range(num_workers):\n",
    "    solver.Add(solver.Sum([x[i, j] for j in range(num_tasks)]) <= 1)\n",
    "\n",
    "# Each task is assigned to exactly one worker.\n",
    "for j in range(num_tasks):\n",
    "    solver.Add(solver.Sum([x[i, j] for i in range(num_workers)]) == 1)"
   ]
  },
  {
   "cell_type": "code",
   "execution_count": 138,
   "metadata": {},
   "outputs": [],
   "source": [
    "# Create the objective function\n",
    "objective_terms = []\n",
    "for i in range(num_workers):\n",
    "    for j in range(num_tasks):\n",
    "        diff = costs[i][j] - x[i, j]\n",
    "        result = diff if diff >= 0 else -1 * diff\n",
    "        objective_terms.append( diff )\n",
    "solver.Minimize(solver.Sum(objective_terms))"
   ]
  },
  {
   "cell_type": "code",
   "execution_count": 139,
   "metadata": {},
   "outputs": [
    {
     "name": "stdout",
     "output_type": "stream",
     "text": [
      "Solving with SCIP 8.0.4 [LP solver: Glop 9.8]\n"
     ]
    }
   ],
   "source": [
    "# Invoke solver\n",
    "print(f\"Solving with {solver.SolverVersion()}\")\n",
    "status = solver.Solve()"
   ]
  },
  {
   "cell_type": "code",
   "execution_count": 146,
   "metadata": {},
   "outputs": [
    {
     "name": "stdout",
     "output_type": "stream",
     "text": [
      "Total cost = 261.0\n",
      "\n",
      "Worker 2 (Dr. Evil) assigned to task 2 (Activity-2): Cost: 0\n",
      "Worker 8 (Patty O'Brien) assigned to task 3 (Activity-8): Cost: 0\n",
      "Worker 9 (Cmdr. Gilmour) assigned to task 4 (Activity-9): Cost: 0\n",
      "Worker 10 (Mustafa) assigned to task 1 (Activity-10): Cost: 0\n"
     ]
    }
   ],
   "source": [
    "# Print solution\n",
    "if status == pywraplp.Solver.OPTIMAL or status == pywraplp.Solver.FEASIBLE:\n",
    "    print(f\"Total cost = {solver.Objective().Value()}\\n\")\n",
    "    for i in range(num_workers):\n",
    "        for j in range(num_tasks):\n",
    "            # Test if x[i,j] is 1 (with tolerance for floating point arithmetic).\n",
    "            if x[i, j].solution_value() > 0.5:\n",
    "                print(f\"Worker {i+1} ({tmp_people['Resource'].to_list()[i]}) assigned to task {j+1} ({tmp_job['Activity'].to_list()[j]}):\" + f\" Cost: {costs[i][j]}\")\n",
    "else:\n",
    "    print(\"No solution found.\")"
   ]
  },
  {
   "cell_type": "code",
   "execution_count": null,
   "metadata": {},
   "outputs": [],
   "source": []
  }
 ],
 "metadata": {
  "kernelspec": {
   "display_name": "Python 3",
   "language": "python",
   "name": "python3"
  },
  "language_info": {
   "codemirror_mode": {
    "name": "ipython",
    "version": 3
   },
   "file_extension": ".py",
   "mimetype": "text/x-python",
   "name": "python",
   "nbconvert_exporter": "python",
   "pygments_lexer": "ipython3",
   "version": "3.9.13"
  }
 },
 "nbformat": 4,
 "nbformat_minor": 2
}
