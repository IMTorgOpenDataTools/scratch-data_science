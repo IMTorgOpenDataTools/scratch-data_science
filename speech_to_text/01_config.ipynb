{
 "cells": [
  {
   "cell_type": "markdown",
   "metadata": {},
   "source": [
    "# Configuring the Environment"
   ]
  },
  {
   "cell_type": "markdown",
   "metadata": {},
   "source": [
    "## Working with Model Files"
   ]
  },
  {
   "cell_type": "markdown",
   "metadata": {},
   "source": [
    "### Manual steps with internet\n",
    "\n",
    "We use internet to get the model and save the pretrained model and tokenizer to local directory. Then you can zip and download it for later use.\n"
   ]
  },
  {
   "cell_type": "code",
   "execution_count": null,
   "metadata": {},
   "outputs": [],
   "source": [
    "from transformers import AutoModelForSequenceClassification,AutoTokenizer\n",
    "import warnings, logging\n",
    "warnings.simplefilter('ignore')\n",
    "logging.disable(logging.WARNING)"
   ]
  },
  {
   "cell_type": "markdown",
   "metadata": {},
   "source": [
    "Download & load the model from HuggingFace modelhub"
   ]
  },
  {
   "cell_type": "code",
   "execution_count": null,
   "metadata": {},
   "outputs": [
    {
     "data": {
      "application/vnd.jupyter.widget-view+json": {
       "model_id": "5319fd3aa0a446f0830d642a6ea23a48",
       "version_major": 2,
       "version_minor": 0
      },
      "text/plain": [
       "Downloading:   0%|          | 0.00/578 [00:00<?, ?B/s]"
      ]
     },
     "metadata": {},
     "output_type": "display_data"
    },
    {
     "data": {
      "application/vnd.jupyter.widget-view+json": {
       "model_id": "10e49cd47a1b433dabc88d60c44540eb",
       "version_major": 2,
       "version_minor": 0
      },
      "text/plain": [
       "Downloading:   0%|          | 0.00/273M [00:00<?, ?B/s]"
      ]
     },
     "metadata": {},
     "output_type": "display_data"
    },
    {
     "data": {
      "application/vnd.jupyter.widget-view+json": {
       "model_id": "82d4cf387dae41018bfad8e862ae9ff8",
       "version_major": 2,
       "version_minor": 0
      },
      "text/plain": [
       "Downloading:   0%|          | 0.00/52.0 [00:00<?, ?B/s]"
      ]
     },
     "metadata": {},
     "output_type": "display_data"
    },
    {
     "data": {
      "application/vnd.jupyter.widget-view+json": {
       "model_id": "eecc2f58514d4ec993925ab1e6adfc73",
       "version_major": 2,
       "version_minor": 0
      },
      "text/plain": [
       "Downloading:   0%|          | 0.00/2.35M [00:00<?, ?B/s]"
      ]
     },
     "metadata": {},
     "output_type": "display_data"
    }
   ],
   "source": [
    "model_nm = 'microsoft/deberta-v3-small'\n",
    "model = AutoModelForSequenceClassification.from_pretrained(model_nm, return_dict=True)\n",
    "tokenizer = AutoTokenizer.from_pretrained(model_nm)"
   ]
  },
  {
   "cell_type": "markdown",
   "metadata": {},
   "source": [
    "Save to directory "
   ]
  },
  {
   "cell_type": "code",
   "execution_count": null,
   "metadata": {},
   "outputs": [],
   "source": [
    "save_path = 'deberta_v3_small_pretrained_model_pytorch'"
   ]
  },
  {
   "cell_type": "code",
   "execution_count": null,
   "metadata": {},
   "outputs": [],
   "source": [
    "!mkdir {save_path}"
   ]
  },
  {
   "cell_type": "code",
   "execution_count": null,
   "metadata": {},
   "outputs": [
    {
     "data": {
      "text/plain": [
       "('deberta_v3_small_pretrained_model_pytorch/tokenizer_config.json',\n",
       " 'deberta_v3_small_pretrained_model_pytorch/special_tokens_map.json',\n",
       " 'deberta_v3_small_pretrained_model_pytorch/spm.model',\n",
       " 'deberta_v3_small_pretrained_model_pytorch/added_tokens.json',\n",
       " 'deberta_v3_small_pretrained_model_pytorch/tokenizer.json')"
      ]
     },
     "metadata": {},
     "output_type": "display_data"
    }
   ],
   "source": [
    "model.save_pretrained(save_path)\n",
    "tokenizer.save_pretrained(save_path)"
   ]
  },
  {
   "cell_type": "code",
   "execution_count": null,
   "metadata": {},
   "outputs": [
    {
     "name": "stdout",
     "output_type": "stream",
     "text": [
      "added_tokens.json  special_tokens_map.json  tokenizer_config.json\r\n",
      "config.json\t   spm.model\r\n",
      "pytorch_model.bin  tokenizer.json\r\n"
     ]
    }
   ],
   "source": [
    "!ls {save_path}"
   ]
  },
  {
   "cell_type": "markdown",
   "metadata": {},
   "source": [
    "Loading from saved path"
   ]
  },
  {
   "cell_type": "code",
   "execution_count": null,
   "metadata": {},
   "outputs": [],
   "source": [
    "model = AutoModelForSequenceClassification.from_pretrained(save_path, return_dict=True)\n"
   ]
  },
  {
   "cell_type": "code",
   "execution_count": null,
   "metadata": {},
   "outputs": [],
   "source": [
    "tokenizer = AutoTokenizer.from_pretrained(save_path)"
   ]
  },
  {
   "cell_type": "markdown",
   "metadata": {},
   "source": [
    "Add to archive to download locally"
   ]
  },
  {
   "cell_type": "code",
   "execution_count": null,
   "metadata": {},
   "outputs": [
    {
     "name": "stdout",
     "output_type": "stream",
     "text": [
      "  adding: deberta_v3_small_pretrained_model_pytorch/ (stored 0%)\r\n",
      "  adding: deberta_v3_small_pretrained_model_pytorch/tokenizer.json (deflated 77%)\r\n",
      "  adding: deberta_v3_small_pretrained_model_pytorch/spm.model (deflated 50%)\r\n",
      "  adding: deberta_v3_small_pretrained_model_pytorch/config.json (deflated 53%)\r\n",
      "  adding: deberta_v3_small_pretrained_model_pytorch/special_tokens_map.json (deflated 54%)\r\n",
      "  adding: deberta_v3_small_pretrained_model_pytorch/pytorch_model.bin (deflated 42%)\r\n",
      "  adding: deberta_v3_small_pretrained_model_pytorch/added_tokens.json (stored 0%)\r\n",
      "  adding: deberta_v3_small_pretrained_model_pytorch/tokenizer_config.json (deflated 45%)\r\n"
     ]
    }
   ],
   "source": [
    "!zip -r debertav3_small.zip {save_path}"
   ]
  },
  {
   "cell_type": "code",
   "execution_count": null,
   "metadata": {},
   "outputs": [],
   "source": [
    "# removing redundant files\n",
    "!rm -rf {save_path}"
   ]
  },
  {
   "cell_type": "markdown",
   "metadata": {},
   "source": [
    "### Manual steps without internet\n",
    "\n",
    "* Search the model you like on https://huggingface.co/spaces/huggingface-projects/diffusers-gallery\n",
    "* The files in a huggingface repo / `Files and versions` required to run the model - weights, tokenizers, configurations, etc.\n",
    "* In `Files and versions`, search for file that end with `.ckpt` or `.safetensors`, press down arrow to download it. Then just place it in `model/Stable-diffusion` folder just like when you download from civitai\n",
    "  - The [`Safetensors`](https://github.com/huggingface/safetensors) format is a relatively new data serialization format that is being developed by HuggingFace. It has many advantages over the ckpt format, including: \n",
    "    + Faster loading times in various ML applications (on both CPU and GPU)\n",
    "    + Cross-platform compatibility (It’s not specifically designed for Python like Pickle)\n",
    "    + Safety (Does not make use of pickle serialization method which can allow for remote code execution)\n",
    "  - there is no difference between `.ckpt` and `.pth` \n",
    "    + A CKPT file is a checkpoint file created by PyTorch Lightning, a PyTorch research framework. It contains a dump of a PyTorch Lightning machine learning model. Developers create CKPT files to preserve the previous states of a machine learning model, while training it to its final state.\n",
    "    + [pytorch lightning](https://github.com/Lightning-AI/pytorch-lightning)\n",
    "* If it doesn't have `safetensors`/`ckpt`, that means it is only available as diffuser (you can convert it to `ckpt`)\n",
    "  - This is a lengthy video about converting to a `ckpt` https://www.youtube.com/watch?v=-6CA18MS0pY\n",
    "  - IIRC, ShivamShrirao's dreambooth colab also have a section to convert diffuser weight to `ckpt`\n",
    "* Save files to cache (`~/.cache/huggingface/hub`), you can read more about it [here](https://huggingface.co/docs/transformers/main/en/installation#cache-setup)\n",
    "* The model is available for loading"
   ]
  },
  {
   "cell_type": "markdown",
   "metadata": {},
   "source": [
    "## References\n",
    "\n",
    "* [Use .safetensors Model Files In Stable Diffusion WebUI](https://techtactician.com/ckpt-vs-safetensors-in-stable-diffusion/)\n",
    "* [Convert Stable Diffusion Diffusers (.bin Weights) & Dreambooth Models to CKPT File](https://www.youtube.com/watch?v=-6CA18MS0pY)\n",
    "* [Discussion board](https://www.reddit.com/r/StableDiffusion/comments/12djqlh/please_help_an_idiot_understand_how_to_download/)\n",
    "* [](https://www.kaggle.com/code/shravankumar147/save-huggingface-model-to-local-for-no-internet)"
   ]
  }
 ],
 "metadata": {
  "language_info": {
   "name": "python"
  }
 },
 "nbformat": 4,
 "nbformat_minor": 2
}
